{
 "cells": [
  {
   "cell_type": "markdown",
   "metadata": {
    "id": "nF0Ps19ADEAg"
   },
   "source": [
    "\n",
    "1. Use for loop to generate 3 random integers between 100 and 999 which is divisible by 5. \n",
    "\n"
   ]
  },
  {
   "cell_type": "code",
   "execution_count": null,
   "metadata": {
    "colab": {
     "base_uri": "https://localhost:8080/"
    },
    "executionInfo": {
     "elapsed": 133,
     "status": "ok",
     "timestamp": 1648925253159,
     "user": {
      "displayName": "Xiaoli Huan",
      "userId": "12700089891795799701"
     },
     "user_tz": 300
    },
    "id": "TioIKiMBDPGR",
    "outputId": "be145924-866c-471b-f990-eae694b57483"
   },
   "outputs": [
    {
     "name": "stdout",
     "output_type": "stream",
     "text": [
      "Generating 3 random integer number between 100 and 999 divisible by 5\n",
      "115, 370, 490, "
     ]
    }
   ],
   "source": [
    "import random\n",
    "\n",
    "result = []\n",
    " # to generate 3 random number between 100 and 999 which is divisible by 5.\n",
    "for _ in range(3):\n",
    "    number = random.randint(100, 999)\n",
    "    while number % 5 != 0:\n",
    "        number = random.randint(100, 999)\n",
    "    result.append(number)\n",
    "\n",
    "print(\"Generating 3 random integer number between 100 and 999 divisible by 5 \",result)\n"
   ]
  },
  {
   "cell_type": "markdown",
   "metadata": {
    "id": "hyXLw2juDQBR"
   },
   "source": [
    "2.The Logistic distribution is used in Extreme Value problems where it can act as a mixture of Gumbel distributions. Draw samples from a logistic distribution and plot it. loc=10, scale=1 and size =1000. "
   ]
  },
  {
   "cell_type": "code",
   "execution_count": 5,
   "metadata": {
    "colab": {
     "base_uri": "https://localhost:8080/",
     "height": 267
    },
    "executionInfo": {
     "elapsed": 510,
     "status": "ok",
     "timestamp": 1648925253822,
     "user": {
      "displayName": "Xiaoli Huan",
      "userId": "12700089891795799701"
     },
     "user_tz": 300
    },
    "id": "t2yhyP6RDXMI",
    "outputId": "2b8b2194-1abe-4d3b-fdb7-d18c91ec2e3a"
   },
   "outputs": [
    {
     "data": {
      "image/png": "[encoded data removed]",
      "text/plain": [
       "<Figure size 640x480 with 1 Axes>"
      ]
     },
     "metadata": {},
     "output_type": "display_data"
    }
   ],
   "source": [
    "import numpy as np\n",
    "import matplotlib.pyplot as plt\n",
    "\n",
    "# parameters for the logistic distribution\n",
    "loc = 10\n",
    "scale = 1\n",
    "size = 1000\n",
    "\n",
    "# Generate samples from the logistic distribution\n",
    "samples = np.random.logistic(loc=loc, scale=scale, size=size)\n",
    "\n",
    "# Setting up plot labels and title\n",
    "plt.hist(samples, bins=30, density=True, alpha=0.8)\n",
    "plt.xlabel('Value')\n",
    "plt.ylabel('Frequency')\n",
    "plt.title('Samples from Logistic Distribution')\n",
    "plt.show() # shows the plot."
   ]
  },
  {
   "cell_type": "markdown",
   "metadata": {
    "id": "0jAtQnvcFn1g"
   },
   "source": [
    "3.\tGenerate 6 digit random secure OTP."
   ]
  },
  {
   "cell_type": "code",
   "execution_count": null,
   "metadata": {
    "colab": {
     "base_uri": "https://localhost:8080/"
    },
    "executionInfo": {
     "elapsed": 28,
     "status": "ok",
     "timestamp": 1648925253823,
     "user": {
      "displayName": "Xiaoli Huan",
      "userId": "12700089891795799701"
     },
     "user_tz": 300
    },
    "id": "8pnAxvQyGLN7",
    "outputId": "d981f4f4-5bfa-4955-aae6-f92d3aace4d4"
   },
   "outputs": [
    {
     "name": "stdout",
     "output_type": "stream",
     "text": [
      "Generating 6 digit random OTP\n",
      "Secure random OTP is  874774\n"
     ]
    }
   ],
   "source": [
    "import secrets\n",
    "\n",
    "otp = secrets.randbelow(10**6)\n",
    "otp = str(otp).zfill(6)\n",
    "\n",
    "print(\"Generating 6 digit random OTP\")\n",
    "print (\"Secure random OTP is \" , otp)\n"
   ]
  },
  {
   "cell_type": "markdown",
   "metadata": {
    "id": "sRajmF4JGc9C"
   },
   "source": [
    "4.\tPick a random character from a given string such as \"Simulation and modeling\""
   ]
  },
  {
   "cell_type": "code",
   "execution_count": null,
   "metadata": {
    "colab": {
     "base_uri": "https://localhost:8080/"
    },
    "executionInfo": {
     "elapsed": 24,
     "status": "ok",
     "timestamp": 1648925253824,
     "user": {
      "displayName": "Xiaoli Huan",
      "userId": "12700089891795799701"
     },
     "user_tz": 300
    },
    "id": "7dquFCrHGeGx",
    "outputId": "1820adae-3495-4c44-81c0-2973e40efe55"
   },
   "outputs": [
    {
     "name": "stdout",
     "output_type": "stream",
     "text": [
      "random char is  i\n"
     ]
    }
   ],
   "source": [
    "import random\n",
    "\n",
    "string = \"Simulation and modeling\"\n",
    "random_character = random.choice(string)\n",
    "\n",
    "print(\"random char is\", random_character)\n"
   ]
  },
  {
   "cell_type": "markdown",
   "metadata": {
    "id": "LWo72SxJGxOd"
   },
   "source": [
    "5. Import string and random module. Generate a string with 5 characters with UPPER case and lower case letters only. No numbers and a special symbol."
   ]
  },
  {
   "cell_type": "code",
   "execution_count": null,
   "metadata": {
    "colab": {
     "base_uri": "https://localhost:8080/"
    },
    "executionInfo": {
     "elapsed": 20,
     "status": "ok",
     "timestamp": 1648925253825,
     "user": {
      "displayName": "Xiaoli Huan",
      "userId": "12700089891795799701"
     },
     "user_tz": 300
    },
    "id": "rf1xMCM8HPhw",
    "outputId": "3e8deea6-c924-404b-ab85-ceb8299f91fe"
   },
   "outputs": [
    {
     "name": "stdout",
     "output_type": "stream",
     "text": [
      "Random String is  EcWqc\n"
     ]
    }
   ],
   "source": [
    "import string\n",
    "import random\n",
    "\n",
    "characters = string.ascii_letters\n",
    "random_string = ''.join(random.choices(characters, k=5))\n",
    "\n",
    "print(\"Random String is\", random_string)\n"
   ]
  },
  {
   "cell_type": "markdown",
   "metadata": {
    "id": "7yXtRN6WHYiu"
   },
   "source": [
    "6. Import string and random module. Generate a Password with length 10 which contains 2 upper case letters, 1 digit, and 1 special symbol. "
   ]
  },
  {
   "cell_type": "code",
   "execution_count": null,
   "metadata": {
    "colab": {
     "base_uri": "https://localhost:8080/"
    },
    "executionInfo": {
     "elapsed": 18,
     "status": "ok",
     "timestamp": 1648925253826,
     "user": {
      "displayName": "Xiaoli Huan",
      "userId": "12700089891795799701"
     },
     "user_tz": 300
    },
    "id": "-3L50bqjHsKO",
    "outputId": "ace6e789-3855-492d-9c38-c57f7385a64f"
   },
   "outputs": [
    {
     "name": "stdout",
     "output_type": "stream",
     "text": [
      "Password is  V2?.p3Sm+N\n"
     ]
    }
   ],
   "source": [
    "import string\n",
    "import random\n",
    "\n",
    "\n",
    "uppercase_letters = string.ascii_uppercase\n",
    "digits = string.digits\n",
    "special_symbols = string.punctuation\n",
    "\n",
    "# To generate the password\n",
    "password = random.choices(uppercase_letters, k=2) + random.choices(digits, k=1) + random.choices(special_symbols, k=1)\n",
    "remaining_length = 10 - len(password)\n",
    "password += random.choices(uppercase_letters + digits + special_symbols, k=remaining_length)\n",
    "\n",
    "# To shuffle the password\n",
    "random.shuffle(password)\n",
    "\n",
    "# Converting the password list to a string\n",
    "password = ''.join(password)\n",
    "\n",
    "print(\"Password is \", password)\n"
   ]
  },
  {
   "cell_type": "markdown",
   "metadata": {
    "id": "b5m0Kv-aIONE"
   },
   "source": [
    "7. First generate evenly spaced values within 0 to 9. Give it new shape 3x3. Then randomly permute it."
   ]
  },
  {
   "cell_type": "code",
   "execution_count": null,
   "metadata": {
    "colab": {
     "base_uri": "https://localhost:8080/"
    },
    "executionInfo": {
     "elapsed": 16,
     "status": "ok",
     "timestamp": 1648925253827,
     "user": {
      "displayName": "Xiaoli Huan",
      "userId": "12700089891795799701"
     },
     "user_tz": 300
    },
    "id": "lA-_-8aNIYWZ",
    "outputId": "bb6e8298-8608-4077-cd06-9c9d6709c6b2"
   },
   "outputs": [
    {
     "data": {
      "text/plain": [
       "array([[0, 1, 2],\n",
       "       [6, 7, 8],\n",
       "       [3, 4, 5]])"
      ]
     },
     "execution_count": 18,
     "metadata": {},
     "output_type": "execute_result"
    }
   ],
   "source": [
    "import numpy as np\n",
    "\n",
    "# To Generate evenly spaced values from 0 to 9\n",
    "values = np.linspace(0, 9, 9, dtype=int)\n",
    "\n",
    "# Shaping the values into a 3x3 array\n",
    "array = values.reshape((3, 3))\n",
    "\n",
    "# Now to randomly permute the elements\n",
    "permuted_array = np.random.permutation(array)\n",
    "\n",
    "\n",
    "print(\"array:\")\n",
    "print(permuted_array)\n"
   ]
  },
  {
   "cell_type": "markdown",
   "metadata": {
    "id": "A_qKoz0cJs56"
   },
   "source": [
    "8. Generate random secure token of 64 bytes and random URL"
   ]
  },
  {
   "cell_type": "code",
   "execution_count": null,
   "metadata": {
    "colab": {
     "base_uri": "https://localhost:8080/"
    },
    "executionInfo": {
     "elapsed": 25,
     "status": "ok",
     "timestamp": 1648925253999,
     "user": {
      "displayName": "Xiaoli Huan",
      "userId": "12700089891795799701"
     },
     "user_tz": 300
    },
    "id": "i5Yl9imaKULT",
    "outputId": "bffd0637-e5b0-4a8f-f3ed-c2c291077d2c"
   },
   "outputs": [
    {
     "name": "stdout",
     "output_type": "stream",
     "text": [
      "Random secure Hexadecimal token is  85f6578951df0edade4ebcb0987907a6ea0dac87620a99bbb96b2677961165cc64943afcd28e5437fabe08318cccd63185e25101c75aa48371313426580fd9e8\n",
      "Random secure URL is  RbzBATjWf11btNPYru-MS3O5hjP__cQFViD7vpkFUN_P_olxXLENFkYzojOHUuk_EZqiYnCAktyivyVcruGm6g\n"
     ]
    }
   ],
   "source": [
    "import secrets\n",
    "import string\n",
    "\n",
    "# Generating a random secure token of 64 bytes\n",
    "secure_token = secrets.token_hex(64) # Here we use secrets.token_hex(64) for 64-byte secure token which is chosen at random. \n",
    "\n",
    "\n",
    "# Generating a random URL\n",
    "characters = string.ascii_letters + string.digits\n",
    "url = ''.join(secrets.choice(characters) for _ in range(128)) # using range till 128 to get 64 byte URL as 1 byte = 2 bits or characters\n",
    "\n",
    "print(\"Random secure Hexadecimal token is  :\", secure_token)\n",
    "print(\"Random  secure URL:\", url)"
   ]
  },
  {
   "cell_type": "markdown",
   "metadata": {
    "id": "BbqxqvkAKoco"
   },
   "source": [
    "9. Pick a random number from 1 to 6. Do it in such a way that every time you must get the same random output number(no hard coding numbers). do this 5 times."
   ]
  },
  {
   "cell_type": "code",
   "execution_count": null,
   "metadata": {
    "colab": {
     "base_uri": "https://localhost:8080/"
    },
    "executionInfo": {
     "elapsed": 13,
     "status": "ok",
     "timestamp": 1648925253999,
     "user": {
      "displayName": "Xiaoli Huan",
      "userId": "12700089891795799701"
     },
     "user_tz": 300
    },
    "id": "GLkxztDWK0ZE",
    "outputId": "4f2287a0-8078-4dc0-e901-90bb7575ccc0"
   },
   "outputs": [
    {
     "name": "stdout",
     "output_type": "stream",
     "text": [
      "Randomly selecting same number of a dice\n",
      "4\n",
      "4\n",
      "4\n",
      "4\n",
      "4\n"
     ]
    }
   ],
   "source": [
    "import random\n",
    "\n",
    "dice = [1, 2, 3, 4, 5, 6]\n",
    "print(\"Randomly selecting same number\")\n",
    "for i in range(5):\n",
    "    random.seed(30)\n",
    "    print(random.choice(dice))"
   ]
  },
  {
   "cell_type": "markdown",
   "metadata": {
    "id": "nKU3_whrK193"
   },
   "source": [
    "10. Write an interactive Python program to play a “guess the  number” game. The computer should think of a random integer between  1 and 20 and the user (player) has to try to guess the number within six  attempts. The program should let the player know if the guess is too high or  too low. \n"
   ]
  },
  {
   "cell_type": "code",
   "execution_count": 1,
   "metadata": {
    "colab": {
     "base_uri": "https://localhost:8080/"
    },
    "executionInfo": {
     "elapsed": 26479,
     "status": "ok",
     "timestamp": 1648925280468,
     "user": {
      "displayName": "Xiaoli Huan",
      "userId": "12700089891795799701"
     },
     "user_tz": 300
    },
    "id": "ZcGQDFpSNX6r",
    "outputId": "1d12aaa1-10ee-4214-92b6-c2128490c39b"
   },
   "outputs": [
    {
     "name": "stdout",
     "output_type": "stream",
     "text": [
      "Hi! What is your name? Priyanka\n",
      "Welcome, Priyanka! I am thinking of an integer between 1 and 20.\n",
      "Take a guess and type the integer? 5\n",
      "Your guess is too high.\n",
      "Attempts remaining: 5\n",
      "\n",
      "Take a guess and type the integer? 2\n",
      "Your guess is too high.\n",
      "Attempts remaining: 4\n",
      "\n",
      "Take a guess and type the integer? 1\n",
      "Congratulations! You guessed the number correctly!\n"
     ]
    }
   ],
   "source": [
    "import random\n",
    "\n",
    "def play_guess_the_number():\n",
    "    number = random.randint(1, 20)\n",
    "    attempts = 6\n",
    "    name = input(\"Hi! What is your name? \")\n",
    "    print(\"Welcome, \" + name + \"! I am thinking of an integer between 1 and 20.\")\n",
    "\n",
    "    \n",
    "    while attempts > 0:\n",
    "        guess = int(input(\"Take a guess and type the integer? \"))\n",
    "\n",
    "        if guess < number:\n",
    "            print(\"Your guess is too low!\")\n",
    "        elif guess > number:\n",
    "            print(\"Your guess is too high.\")\n",
    "        else:\n",
    "            print(\"Congratulations! You guessed the number correctly!\")\n",
    "            return\n",
    "\n",
    "        attempts -= 1\n",
    "        print(f\"Attempts remaining: {attempts}\\n\")\n",
    "\n",
    "    print(\"Game over! You ran out of attempts.\")\n",
    "    print(f\"The number I was thinking is: {number}\")\n",
    "\n",
    "\n",
    "play_guess_the_number()\n"
   ]
  },
  {
   "cell_type": "code",
   "execution_count": null,
   "metadata": {},
   "outputs": [],
   "source": []
  }
 ],
 "metadata": {
  "colab": {
   "collapsed_sections": [],
   "name": "homework2_solution.ipynb",
   "provenance": []
  },
  "interpreter": {
   "hash": "c98e05168fa63a48dbdd2a4274fef77cd63f6368d59e4488c10e2ff7243bb6c6"
  },
  "kernelspec": {
   "display_name": "Python 3 (ipykernel)",
   "language": "python",
   "name": "python3"
  },
  "language_info": {
   "codemirror_mode": {
    "name": "ipython",
    "version": 3
   },
   "file_extension": ".py",
   "mimetype": "text/x-python",
   "name": "python",
   "nbconvert_exporter": "python",
   "pygments_lexer": "ipython3",
   "version": "3.10.9"
  }
 },
 "nbformat": 4,
 "nbformat_minor": 1
}
